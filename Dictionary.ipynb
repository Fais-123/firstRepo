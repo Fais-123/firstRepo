{
  "nbformat": 4,
  "nbformat_minor": 0,
  "metadata": {
    "colab": {
      "name": "Untitled1.ipynb",
      "provenance": [],
      "authorship_tag": "ABX9TyMPFOjem5wfjS+l7AIcpRak",
      "include_colab_link": true
    },
    "kernelspec": {
      "name": "python3",
      "display_name": "Python 3"
    },
    "language_info": {
      "name": "python"
    }
  },
  "cells": [
    {
      "cell_type": "markdown",
      "metadata": {
        "id": "view-in-github",
        "colab_type": "text"
      },
      "source": [
        "<a href=\"https://colab.research.google.com/github/Fais-123/firstRepo/blob/master/Dictionary.ipynb\" target=\"_parent\"><img src=\"https://colab.research.google.com/assets/colab-badge.svg\" alt=\"Open In Colab\"/></a>"
      ]
    },
    {
      "cell_type": "code",
      "execution_count": 17,
      "metadata": {
        "colab": {
          "base_uri": "https://localhost:8080/"
        },
        "id": "Xuqa8rPBOkzp",
        "outputId": "58459116-18f0-49e1-907e-18c4d043ba9c"
      },
      "outputs": [
        {
          "output_type": "stream",
          "name": "stdout",
          "text": [
            "{'name': 'Faisal', 'age': '43'}\n"
          ]
        }
      ],
      "source": [
        "#Creating dictionary\n",
        "dic={\"name\":\"Faisal\",\"age\":\"43\"}\n",
        "print(dic)"
      ]
    },
    {
      "cell_type": "code",
      "source": [
        "dic[\"father_name\"]=\"khan\"\n",
        "print(dic)"
      ],
      "metadata": {
        "colab": {
          "base_uri": "https://localhost:8080/"
        },
        "id": "xoRQYosLPQhC",
        "outputId": "4d812c90-be5e-4da0-8d64-41b5e30e296e"
      },
      "execution_count": 18,
      "outputs": [
        {
          "output_type": "stream",
          "name": "stdout",
          "text": [
            "{'name': 'Faisal', 'age': '43', 'father_name': 'khan'}\n"
          ]
        }
      ]
    },
    {
      "cell_type": "code",
      "source": [
        "#retrieve value\n",
        "dic[\"age\"]"
      ],
      "metadata": {
        "colab": {
          "base_uri": "https://localhost:8080/",
          "height": 35
        },
        "id": "2MQ-2cfUQuDo",
        "outputId": "22862bb1-57b2-4e77-d6fd-41887b9c6fa1"
      },
      "execution_count": 20,
      "outputs": [
        {
          "output_type": "execute_result",
          "data": {
            "application/vnd.google.colaboratory.intrinsic+json": {
              "type": "string"
            },
            "text/plain": [
              "'43'"
            ]
          },
          "metadata": {},
          "execution_count": 20
        }
      ]
    },
    {
      "cell_type": "code",
      "source": [
        "dic[\"name\"]\n"
      ],
      "metadata": {
        "colab": {
          "base_uri": "https://localhost:8080/",
          "height": 35
        },
        "id": "XHWJoI0UQ4KZ",
        "outputId": "fc45fc9f-7b21-464e-e22f-ce2dad488544"
      },
      "execution_count": 21,
      "outputs": [
        {
          "output_type": "execute_result",
          "data": {
            "application/vnd.google.colaboratory.intrinsic+json": {
              "type": "string"
            },
            "text/plain": [
              "'Faisal'"
            ]
          },
          "metadata": {},
          "execution_count": 21
        }
      ]
    },
    {
      "cell_type": "code",
      "source": [
        "#retrieve value using get function\n",
        "dic.get(\"name\")\n"
      ],
      "metadata": {
        "colab": {
          "base_uri": "https://localhost:8080/",
          "height": 35
        },
        "id": "E7ztkDgNQ6oG",
        "outputId": "051c6166-b888-4794-e04d-da313fa9a1b3"
      },
      "execution_count": 22,
      "outputs": [
        {
          "output_type": "execute_result",
          "data": {
            "application/vnd.google.colaboratory.intrinsic+json": {
              "type": "string"
            },
            "text/plain": [
              "'Faisal'"
            ]
          },
          "metadata": {},
          "execution_count": 22
        }
      ]
    },
    {
      "cell_type": "code",
      "source": [
        "dic.get(\"father_name\")\n"
      ],
      "metadata": {
        "colab": {
          "base_uri": "https://localhost:8080/",
          "height": 35
        },
        "id": "JpLz_eYFRDNa",
        "outputId": "80e0c1a5-b8e8-41f9-cf3d-b2cdf0acbf9b"
      },
      "execution_count": 25,
      "outputs": [
        {
          "output_type": "execute_result",
          "data": {
            "application/vnd.google.colaboratory.intrinsic+json": {
              "type": "string"
            },
            "text/plain": [
              "'khan'"
            ]
          },
          "metadata": {},
          "execution_count": 25
        }
      ]
    },
    {
      "cell_type": "code",
      "source": [
        "#delete value\n",
        "dic={\"name\":\"Faisal\",\"age\":\"43\"}\n",
        "\n",
        "del dic[\"name\"]\n",
        "print(dic)\n"
      ],
      "metadata": {
        "colab": {
          "base_uri": "https://localhost:8080/"
        },
        "id": "uoXLFyqORIpA",
        "outputId": "7f9f0ae1-1d6f-440f-828e-ff63314a302d"
      },
      "execution_count": 32,
      "outputs": [
        {
          "output_type": "stream",
          "name": "stdout",
          "text": [
            "{'age': '43'}\n"
          ]
        }
      ]
    },
    {
      "cell_type": "code",
      "source": [
        "del dic[\"age\"]\n",
        "print(dic)"
      ],
      "metadata": {
        "colab": {
          "base_uri": "https://localhost:8080/"
        },
        "id": "YInAO58cRgHn",
        "outputId": "239344ef-67e0-4d38-9ce1-791c18abf86c"
      },
      "execution_count": 33,
      "outputs": [
        {
          "output_type": "stream",
          "name": "stdout",
          "text": [
            "{}\n"
          ]
        }
      ]
    },
    {
      "cell_type": "code",
      "source": [
        "#Dictionary Iteration\n",
        "info={\"name\":\"ali\",\"father_name\":\"khan\",\"course\":\"Python\",\"class_time\":\"9 to 11pm\"}\n",
        "print(info)"
      ],
      "metadata": {
        "colab": {
          "base_uri": "https://localhost:8080/"
        },
        "id": "hVSkgXPISHsx",
        "outputId": "1760b0c1-d29f-4420-ba73-510e03bd2ad7"
      },
      "execution_count": 34,
      "outputs": [
        {
          "output_type": "stream",
          "name": "stdout",
          "text": [
            "{'name': 'ali', 'father_name': 'khan', 'course': 'Python', 'class_time': '9 to 11pm'}\n"
          ]
        }
      ]
    },
    {
      "cell_type": "code",
      "source": [
        "#to display keys \n",
        "for key in info:\n",
        "  print(key)"
      ],
      "metadata": {
        "colab": {
          "base_uri": "https://localhost:8080/"
        },
        "id": "uBr3DxrOSrGT",
        "outputId": "c3e327fb-b143-480e-f57a-40bd93a0ce4a"
      },
      "execution_count": 36,
      "outputs": [
        {
          "output_type": "stream",
          "name": "stdout",
          "text": [
            "name\n",
            "father_name\n",
            "course\n",
            "class_time\n"
          ]
        }
      ]
    },
    {
      "cell_type": "code",
      "source": [
        "#to display keys using keys function\n",
        "for key in info.keys():\n",
        "  print(key)\n"
      ],
      "metadata": {
        "colab": {
          "base_uri": "https://localhost:8080/"
        },
        "id": "8wfQxMyxSmX7",
        "outputId": "64211437-e616-41e5-e7f0-93b2752ba624"
      },
      "execution_count": 37,
      "outputs": [
        {
          "output_type": "stream",
          "name": "stdout",
          "text": [
            "name\n",
            "father_name\n",
            "course\n",
            "class_time\n"
          ]
        }
      ]
    },
    {
      "cell_type": "code",
      "source": [
        "#to display values using values function\n",
        "for vals in info.values():\n",
        "  print(vals)"
      ],
      "metadata": {
        "id": "g_ehIO67Tcm4",
        "outputId": "d58d559b-e696-4804-cae5-b58f7bcfe929",
        "colab": {
          "base_uri": "https://localhost:8080/"
        }
      },
      "execution_count": 39,
      "outputs": [
        {
          "output_type": "stream",
          "name": "stdout",
          "text": [
            "ali\n",
            "khan\n",
            "Python\n",
            "9 to 11pm\n"
          ]
        }
      ]
    },
    {
      "cell_type": "code",
      "source": [
        "#displaying all values using keys\n",
        "for vals in info.keys():\n",
        "  print(info[vals])"
      ],
      "metadata": {
        "id": "V8witeRpTnCT",
        "outputId": "8917ec89-ff3e-45ef-82cb-acbdc150000f",
        "colab": {
          "base_uri": "https://localhost:8080/"
        }
      },
      "execution_count": 40,
      "outputs": [
        {
          "output_type": "stream",
          "name": "stdout",
          "text": [
            "ali\n",
            "khan\n",
            "Python\n",
            "9 to 11pm\n"
          ]
        }
      ]
    },
    {
      "cell_type": "code",
      "source": [
        "#displaying keys,values together\n",
        "for keys,vals in info.items():\n",
        "  print(f\"key:{keys} , value:{vals}\")"
      ],
      "metadata": {
        "id": "2fuOYIW2UJ0l",
        "outputId": "fd09c927-bd28-4421-998e-898d0cb22225",
        "colab": {
          "base_uri": "https://localhost:8080/"
        }
      },
      "execution_count": 43,
      "outputs": [
        {
          "output_type": "stream",
          "name": "stdout",
          "text": [
            "key:name , value:ali\n",
            "key:father_name , value:khan\n",
            "key:course , value:Python\n",
            "key:class_time , value:9 to 11pm\n"
          ]
        }
      ]
    },
    {
      "cell_type": "code",
      "source": [
        "mix_dict={1:100,2:True,3.4:300,\"nums\":\"300\"}\n",
        "print(mix_dict)"
      ],
      "metadata": {
        "id": "MEQfM4ulUsJb",
        "outputId": "2e291001-24b7-4647-eb2a-63020e5ff96c",
        "colab": {
          "base_uri": "https://localhost:8080/"
        }
      },
      "execution_count": 47,
      "outputs": [
        {
          "output_type": "stream",
          "name": "stdout",
          "text": [
            "{1: 100, 2: True, 3.4: 300, 'nums': '300'}\n"
          ]
        }
      ]
    },
    {
      "cell_type": "code",
      "source": [
        "# Creating a list in a dictinary\n",
        "info={\"student\":[\"ali\",\"azib\",\"ajmal\",\"arham\",\"aslam\"],\"age\":[\"33\",\"42\",\"12\",\"32\",\"54\"],\"courses\":[\"Python\",\"AI\",\"web\",\"React\",\"c++\"]}\n",
        "print(info)\n"
      ],
      "metadata": {
        "id": "tI9D3-oyU1Az",
        "outputId": "862c58b0-52d6-4a2c-b0aa-7be4e382ef46",
        "colab": {
          "base_uri": "https://localhost:8080/"
        }
      },
      "execution_count": 56,
      "outputs": [
        {
          "output_type": "stream",
          "name": "stdout",
          "text": [
            "{'student': ['ali', 'azib', 'ajmal', 'arham', 'aslam'], 'age': ['33', '42', '12', '32', '54'], 'courses': ['Python', 'AI', 'web', 'React', 'c++']}\n"
          ]
        }
      ]
    },
    {
      "cell_type": "code",
      "source": [
        "#retrieving the data of one specific person\n",
        "info={\"student\":[\"ali\",\"azib\",\"ajmal\",\"arham\",\"aslam\"],\"age\":[\"33\",\"42\",\"12\",\"32\",\"54\"],\"courses\":[\"Python\",\"AI\",\"web\",\"React\",\"c++\"]}\n",
        "\n",
        "for keys,vals in info.items():\n",
        "  print(vals[0])\n"
      ],
      "metadata": {
        "id": "vDC3fmouZ0y8",
        "outputId": "c374cc8c-c10a-4445-81f6-03bd4511f47c",
        "colab": {
          "base_uri": "https://localhost:8080/"
        }
      },
      "execution_count": 66,
      "outputs": [
        {
          "output_type": "stream",
          "name": "stdout",
          "text": [
            "ali\n",
            "33\n",
            "Python\n"
          ]
        }
      ]
    },
    {
      "cell_type": "code",
      "source": [
        "for keys,vals in info.items():\n",
        "  print(vals[4])"
      ],
      "metadata": {
        "id": "JWSAPwOEZ31i",
        "outputId": "f42f723e-3280-47f2-a6cd-cee21dcf67fd",
        "colab": {
          "base_uri": "https://localhost:8080/"
        }
      },
      "execution_count": 67,
      "outputs": [
        {
          "output_type": "stream",
          "name": "stdout",
          "text": [
            "aslam\n",
            "54\n",
            "c++\n"
          ]
        }
      ]
    },
    {
      "cell_type": "code",
      "source": [
        "#want to print any key and its any value at index\n",
        "info[\"student\"][3]"
      ],
      "metadata": {
        "id": "MA4J6MG8bpdD",
        "outputId": "f860850f-ec2f-47fe-a436-7b2b3c6f1686",
        "colab": {
          "base_uri": "https://localhost:8080/",
          "height": 35
        }
      },
      "execution_count": 69,
      "outputs": [
        {
          "output_type": "execute_result",
          "data": {
            "application/vnd.google.colaboratory.intrinsic+json": {
              "type": "string"
            },
            "text/plain": [
              "'arham'"
            ]
          },
          "metadata": {},
          "execution_count": 69
        }
      ]
    },
    {
      "cell_type": "code",
      "source": [
        "flag=True\n",
        "while flag:\n",
        "    user=input(\"enter the course:\")\n",
        "    for course in info[keys]:\n",
        "\n",
        "      if(user==course):\n",
        "        print(course)\n",
        "      else:\n",
        "        print(\"There is no such course\")\n",
        "        flag=False\n",
        "    "
      ],
      "metadata": {
        "id": "rzgv_ouCb7fi",
        "outputId": "0f8b4a5f-1a4f-4edb-b51b-5cd23c35de14",
        "colab": {
          "base_uri": "https://localhost:8080/"
        }
      },
      "execution_count": 86,
      "outputs": [
        {
          "output_type": "stream",
          "name": "stdout",
          "text": [
            "enter the course:Python\n",
            "There is no such course\n",
            "There is no such course\n",
            "There is no such course\n",
            "There is no such course\n",
            "There is no such course\n",
            "There is no such course\n",
            "There is no such course\n",
            "There is no such course\n",
            "There is no such course\n",
            "There is no such course\n",
            "Python\n",
            "There is no such course\n",
            "There is no such course\n",
            "There is no such course\n",
            "There is no such course\n"
          ]
        }
      ]
    },
    {
      "cell_type": "code",
      "source": [
        "a=[1,2,3,4,5]\n",
        "1 in a\n"
      ],
      "metadata": {
        "id": "WwyNY_6BfL7W",
        "outputId": "0d99599f-df23-4eec-b223-4866215b972c",
        "colab": {
          "base_uri": "https://localhost:8080/"
        }
      },
      "execution_count": 87,
      "outputs": [
        {
          "output_type": "execute_result",
          "data": {
            "text/plain": [
              "True"
            ]
          },
          "metadata": {},
          "execution_count": 87
        }
      ]
    },
    {
      "cell_type": "code",
      "source": [
        "6 in a"
      ],
      "metadata": {
        "id": "bykwvS-rfPjW",
        "outputId": "3bc37551-1d53-48ef-b25c-91b695a7e62f",
        "colab": {
          "base_uri": "https://localhost:8080/"
        }
      },
      "execution_count": 89,
      "outputs": [
        {
          "output_type": "execute_result",
          "data": {
            "text/plain": [
              "False"
            ]
          },
          "metadata": {},
          "execution_count": 89
        }
      ]
    },
    {
      "cell_type": "code",
      "source": [
        "x=100\n",
        "z=x\n",
        "x is z"
      ],
      "metadata": {
        "id": "R58wgK1qf_ZB",
        "outputId": "3180e464-0678-4f7c-d5c4-cabe0886d800",
        "colab": {
          "base_uri": "https://localhost:8080/"
        }
      },
      "execution_count": 90,
      "outputs": [
        {
          "output_type": "execute_result",
          "data": {
            "text/plain": [
              "True"
            ]
          },
          "metadata": {},
          "execution_count": 90
        }
      ]
    },
    {
      "cell_type": "code",
      "source": [
        "z is x\n"
      ],
      "metadata": {
        "id": "mJzTJcRNgO0M",
        "outputId": "44b129da-2f06-4c13-8fe9-35602e9bf372",
        "colab": {
          "base_uri": "https://localhost:8080/"
        }
      },
      "execution_count": 91,
      "outputs": [
        {
          "output_type": "execute_result",
          "data": {
            "text/plain": [
              "True"
            ]
          },
          "metadata": {},
          "execution_count": 91
        }
      ]
    },
    {
      "cell_type": "code",
      "source": [
        "a=100\n",
        "b=100\n",
        "b is a"
      ],
      "metadata": {
        "id": "i2Pt6pn8gQif",
        "outputId": "3b8202fa-57ef-4df0-f185-91755b3bea38",
        "colab": {
          "base_uri": "https://localhost:8080/"
        }
      },
      "execution_count": 92,
      "outputs": [
        {
          "output_type": "execute_result",
          "data": {
            "text/plain": [
              "True"
            ]
          },
          "metadata": {},
          "execution_count": 92
        }
      ]
    },
    {
      "cell_type": "code",
      "source": [
        "c=99\n",
        "c is a\n"
      ],
      "metadata": {
        "id": "vVnYc1jSgWH9",
        "outputId": "c3dfac47-3f53-4be2-bda6-ef08529a029e",
        "colab": {
          "base_uri": "https://localhost:8080/"
        }
      },
      "execution_count": 93,
      "outputs": [
        {
          "output_type": "execute_result",
          "data": {
            "text/plain": [
              "False"
            ]
          },
          "metadata": {},
          "execution_count": 93
        }
      ]
    },
    {
      "cell_type": "code",
      "source": [
        ""
      ],
      "metadata": {
        "id": "KzRvhAlggasd"
      },
      "execution_count": null,
      "outputs": []
    }
  ]
}