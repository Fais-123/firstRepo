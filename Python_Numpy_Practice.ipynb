{
  "nbformat": 4,
  "nbformat_minor": 0,
  "metadata": {
    "colab": {
      "name": "Untitled0.ipynb",
      "provenance": [],
      "authorship_tag": "ABX9TyPNGILFSM++QHbf5y7FPF9Q",
      "include_colab_link": true
    },
    "kernelspec": {
      "name": "python3",
      "display_name": "Python 3"
    },
    "language_info": {
      "name": "python"
    }
  },
  "cells": [
    {
      "cell_type": "markdown",
      "metadata": {
        "id": "view-in-github",
        "colab_type": "text"
      },
      "source": [
        "<a href=\"https://colab.research.google.com/github/Fais-123/firstRepo/blob/master/Python_Numpy_Practice.ipynb\" target=\"_parent\"><img src=\"https://colab.research.google.com/assets/colab-badge.svg\" alt=\"Open In Colab\"/></a>"
      ]
    },
    {
      "cell_type": "code",
      "execution_count": 1,
      "metadata": {
        "colab": {
          "base_uri": "https://localhost:8080/"
        },
        "id": "gujtriWNJdjL",
        "outputId": "fe9b70c3-e8fd-423e-8760-beb344a9e4f0"
      },
      "outputs": [
        {
          "output_type": "stream",
          "name": "stdout",
          "text": [
            "hello\n"
          ]
        }
      ],
      "source": [
        "print(\"hello\")\n"
      ]
    },
    {
      "cell_type": "code",
      "source": [
        "print(1)\n"
      ],
      "metadata": {
        "colab": {
          "base_uri": "https://localhost:8080/"
        },
        "id": "IqwECPNWJh3s",
        "outputId": "9d2310cd-a89a-4d16-e91d-9f728bc9ce26"
      },
      "execution_count": 2,
      "outputs": [
        {
          "output_type": "stream",
          "name": "stdout",
          "text": [
            "1\n"
          ]
        }
      ]
    },
    {
      "cell_type": "markdown",
      "source": [
        "# Python Numpy Library \n",
        "Array is a central data structure of the numpy Library. Array contain similar data type elements.\n"
      ],
      "metadata": {
        "id": "aaQ9-6AZJ52j"
      }
    },
    {
      "cell_type": "code",
      "source": [
        "import numpy as np\n",
        "a=np.array([1,2,3,4,5])\n",
        "print(a)\n",
        "type(a)\n"
      ],
      "metadata": {
        "colab": {
          "base_uri": "https://localhost:8080/"
        },
        "id": "XXANrOAIKQVj",
        "outputId": "9939a8ed-3383-4d51-f009-e37b2a4f76cb"
      },
      "execution_count": 7,
      "outputs": [
        {
          "output_type": "stream",
          "name": "stdout",
          "text": [
            "[1 2 3 4 5]\n"
          ]
        },
        {
          "output_type": "execute_result",
          "data": {
            "text/plain": [
              "numpy.ndarray"
            ]
          },
          "metadata": {},
          "execution_count": 7
        }
      ]
    },
    {
      "cell_type": "markdown",
      "source": [
        "# Declaring 1D And 2D array"
      ],
      "metadata": {
        "id": "X6XmqiJzN-9p"
      }
    },
    {
      "cell_type": "code",
      "source": [
        "b=np.array([1,3,5,7,9])\n",
        "print(b)\n",
        "\n",
        "#declaring 2D array(2D array is a array of array)\n",
        "c=np.array([[1,2,5],[1,2,5],[1,2,5]])\n",
        "print(c)\n",
        "#What is a vector?\n",
        "#A vector is a array with a single dimension.(only rows or only columns).\n",
        "\n",
        "#What is a matrix?\n",
        "#A matrix is a array with a 2 dimension(means rows and columns).\n",
        "\n"
      ],
      "metadata": {
        "colab": {
          "base_uri": "https://localhost:8080/"
        },
        "id": "8NN2U9caKZOm",
        "outputId": "631b8b2e-b0bb-48c3-faa5-94984bd6b574"
      },
      "execution_count": 9,
      "outputs": [
        {
          "output_type": "stream",
          "name": "stdout",
          "text": [
            "[1 3 5 7 9]\n",
            "[[1 2 5]\n",
            " [1 2 5]\n",
            " [1 2 5]]\n"
          ]
        }
      ]
    },
    {
      "cell_type": "code",
      "source": [
        "#The numpy ndarray class used to represent both matrices and vectors.\n",
        "print(type(b))\n",
        "print(type(c))\n",
        "#Here e must kno that 1D AND 2D array both types are same which is ndarray."
      ],
      "metadata": {
        "colab": {
          "base_uri": "https://localhost:8080/"
        },
        "id": "z7TxH1W6Q--0",
        "outputId": "2f65916d-10fe-407f-a8ea-7b0bbe11d996"
      },
      "execution_count": 10,
      "outputs": [
        {
          "output_type": "stream",
          "name": "stdout",
          "text": [
            "<class 'numpy.ndarray'>\n",
            "<class 'numpy.ndarray'>\n"
          ]
        }
      ]
    },
    {
      "cell_type": "code",
      "source": [
        "#For 3D or high dimensions arrays,the term tensor is commonly used.\n",
        "#TensorFlow is a free and open source software library  for AI AND ML. \n",
        "#If anybody is having trouble understanding 3D Matrix (aka Tensor), keep in mind that previously it was referred that Elements inside a Matrix are referred to as i, j, k (alphabetical order); where 'i' is the number of Matrices, 'j' is # of Rows, and 'k' is # of columns. So (2,3,4) means 2 Matrices of 3 Columns and 4 Rows. It is that simple. Cheers!"
      ],
      "metadata": {
        "id": "Xs3aiPLERe5t"
      },
      "execution_count": null,
      "outputs": []
    },
    {
      "cell_type": "code",
      "source": [
        "#Array Attributes\n",
        "#1. Dimensions are called Axis.\n",
        "np.zeros(3)"
      ],
      "metadata": {
        "colab": {
          "base_uri": "https://localhost:8080/"
        },
        "id": "zyP095u7Sc0t",
        "outputId": "faf57a3c-cf06-4048-b6fb-6e6e396be466"
      },
      "execution_count": 11,
      "outputs": [
        {
          "output_type": "execute_result",
          "data": {
            "text/plain": [
              "array([0., 0., 0.])"
            ]
          },
          "metadata": {},
          "execution_count": 11
        }
      ]
    },
    {
      "cell_type": "code",
      "source": [
        "np.ones(2)"
      ],
      "metadata": {
        "colab": {
          "base_uri": "https://localhost:8080/"
        },
        "id": "ox-W8QVlTkze",
        "outputId": "75deeabc-78dd-4f91-a0cc-1a3dc283ccbb"
      },
      "execution_count": 13,
      "outputs": [
        {
          "output_type": "execute_result",
          "data": {
            "text/plain": [
              "array([1., 1.])"
            ]
          },
          "metadata": {},
          "execution_count": 13
        }
      ]
    },
    {
      "cell_type": "code",
      "source": [
        "np.arange(6)\n"
      ],
      "metadata": {
        "colab": {
          "base_uri": "https://localhost:8080/"
        },
        "id": "2Fdbcj2wTorq",
        "outputId": "8416a38d-977a-4fb9-bf55-284ee4b6c5c3"
      },
      "execution_count": 16,
      "outputs": [
        {
          "output_type": "execute_result",
          "data": {
            "text/plain": [
              "array([0, 1, 2, 3, 4, 5])"
            ]
          },
          "metadata": {},
          "execution_count": 16
        }
      ]
    },
    {
      "cell_type": "code",
      "source": [
        "np.arange(100)\n"
      ],
      "metadata": {
        "colab": {
          "base_uri": "https://localhost:8080/"
        },
        "id": "6MkPziOCTyjk",
        "outputId": "85cc0f2a-baf8-42e5-f7f2-2b87e0744adf"
      },
      "execution_count": 17,
      "outputs": [
        {
          "output_type": "execute_result",
          "data": {
            "text/plain": [
              "array([ 0,  1,  2,  3,  4,  5,  6,  7,  8,  9, 10, 11, 12, 13, 14, 15, 16,\n",
              "       17, 18, 19, 20, 21, 22, 23, 24, 25, 26, 27, 28, 29, 30, 31, 32, 33,\n",
              "       34, 35, 36, 37, 38, 39, 40, 41, 42, 43, 44, 45, 46, 47, 48, 49, 50,\n",
              "       51, 52, 53, 54, 55, 56, 57, 58, 59, 60, 61, 62, 63, 64, 65, 66, 67,\n",
              "       68, 69, 70, 71, 72, 73, 74, 75, 76, 77, 78, 79, 80, 81, 82, 83, 84,\n",
              "       85, 86, 87, 88, 89, 90, 91, 92, 93, 94, 95, 96, 97, 98, 99])"
            ]
          },
          "metadata": {},
          "execution_count": 17
        }
      ]
    },
    {
      "cell_type": "code",
      "source": [
        "#Making 2D array with range 12 and reshape(4,3) it contains 4 rows and 3 columns.\n",
        "np.arange(12).reshape(4,3)\n",
        "\n"
      ],
      "metadata": {
        "colab": {
          "base_uri": "https://localhost:8080/"
        },
        "id": "8BpqcLsSUHEJ",
        "outputId": "0a267bb0-641b-4f83-9ffb-51246dadbc6e"
      },
      "execution_count": 20,
      "outputs": [
        {
          "output_type": "execute_result",
          "data": {
            "text/plain": [
              "array([[ 0,  1,  2],\n",
              "       [ 3,  4,  5],\n",
              "       [ 6,  7,  8],\n",
              "       [ 9, 10, 11]])"
            ]
          },
          "metadata": {},
          "execution_count": 20
        }
      ]
    },
    {
      "cell_type": "code",
      "source": [
        "np.arange(24).reshape(4,6) #Making 2D array with range 24 and reshape(4,6) it contains 4 rows and 6 columns.\n",
        "  "
      ],
      "metadata": {
        "colab": {
          "base_uri": "https://localhost:8080/"
        },
        "id": "qS_8xbwoUVLN",
        "outputId": "fa0c392f-0fd7-442a-a967-8a8422126395"
      },
      "execution_count": 21,
      "outputs": [
        {
          "output_type": "execute_result",
          "data": {
            "text/plain": [
              "array([[ 0,  1,  2,  3,  4,  5],\n",
              "       [ 6,  7,  8,  9, 10, 11],\n",
              "       [12, 13, 14, 15, 16, 17],\n",
              "       [18, 19, 20, 21, 22, 23]])"
            ]
          },
          "metadata": {},
          "execution_count": 21
        }
      ]
    },
    {
      "cell_type": "code",
      "source": [
        ""
      ],
      "metadata": {
        "id": "h9ee5z4wVACC"
      },
      "execution_count": null,
      "outputs": []
    }
  ]
}